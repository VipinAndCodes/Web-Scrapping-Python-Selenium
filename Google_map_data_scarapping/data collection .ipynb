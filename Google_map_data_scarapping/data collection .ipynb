{
 "cells": [
  {
   "cell_type": "code",
   "execution_count": 1,
   "id": "3a430ca1",
   "metadata": {},
   "outputs": [],
   "source": [
    "import googlemaps\n",
    "import time\n",
    "import pandas as pd"
   ]
  },
  {
   "cell_type": "code",
   "execution_count": 2,
   "id": "19cd5c76",
   "metadata": {},
   "outputs": [],
   "source": [
    "\n",
    "API_KEY = ''\n",
    "map_client = googlemaps.Client(API_KEY)\n"
   ]
  },
  {
   "cell_type": "code",
   "execution_count": 9,
   "id": "5037064d",
   "metadata": {},
   "outputs": [
    {
     "name": "stdout",
     "output_type": "stream",
     "text": [
      "(12.07242, 75.43545)\n"
     ]
    }
   ],
   "source": [
    "#kasaragod 12.479248, 75.123958\n",
    "#kannur 12.072420, 75.435450\n",
    "lat = 12.072420\n",
    "long = 75.435450\n",
    "loc = (lat,long)\n",
    "distance = 50000\n",
    "print(loc)\n",
    "Current_location = \"kannur\""
   ]
  },
  {
   "cell_type": "code",
   "execution_count": 10,
   "id": "87b3a9d4",
   "metadata": {},
   "outputs": [],
   "source": [
    "categories = [\"tourist_attraction\",\"natural_feature\",\"restaurant\",\"lodging\"]\n",
    "for category in categories:\n",
    "    location=Current_location+\"_\"+category\n",
    "    place_list = []\n",
    "    \n",
    "    response = map_client.places_nearby(\n",
    "    location=loc,\n",
    "    type=category,\n",
    "    radius=distance)  \n",
    "\n",
    "    place_list.extend(response.get('results'))\n",
    "    next_page_token = response.get('next_page_token')\n",
    "\n",
    "    while next_page_token:\n",
    "        time.sleep(2)\n",
    "        response = map_client.places_nearby(\n",
    "        location=loc,\n",
    "        type=category,\n",
    "        radius=distance,\n",
    "        page_token=next_page_token)   \n",
    "        place_list.extend(response.get('results'))\n",
    "        next_page_token = response.get('next_page_token')\n",
    "\n",
    "    df = pd.DataFrame(place_list)\n",
    "    df['url'] = 'https://www.google.com/maps/place/?q=place_id:' + df['place_id']\n",
    "    df.to_excel('{0}.xlsx'.format(location), index=False)"
   ]
  },
  {
   "cell_type": "code",
   "execution_count": null,
   "id": "c38a449c",
   "metadata": {},
   "outputs": [],
   "source": []
  },
  {
   "cell_type": "code",
   "execution_count": null,
   "id": "231fe9c1",
   "metadata": {},
   "outputs": [],
   "source": []
  },
  {
   "cell_type": "code",
   "execution_count": null,
   "id": "2ac9d0ab",
   "metadata": {},
   "outputs": [],
   "source": [
    "\n"
   ]
  },
  {
   "cell_type": "code",
   "execution_count": null,
   "id": "e62bd8ec",
   "metadata": {},
   "outputs": [],
   "source": [
    "\n",
    "\n"
   ]
  },
  {
   "cell_type": "code",
   "execution_count": null,
   "id": "3da1d308",
   "metadata": {},
   "outputs": [],
   "source": []
  }
 ],
 "metadata": {
  "kernelspec": {
   "display_name": "Python 3 (ipykernel)",
   "language": "python",
   "name": "python3"
  },
  "language_info": {
   "codemirror_mode": {
    "name": "ipython",
    "version": 3
   },
   "file_extension": ".py",
   "mimetype": "text/x-python",
   "name": "python",
   "nbconvert_exporter": "python",
   "pygments_lexer": "ipython3",
   "version": "3.9.6"
  }
 },
 "nbformat": 4,
 "nbformat_minor": 5
}
